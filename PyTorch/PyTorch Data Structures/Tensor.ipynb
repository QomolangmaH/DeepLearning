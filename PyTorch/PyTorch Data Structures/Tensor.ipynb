{
 "cells": [
  {
   "cell_type": "markdown",
   "source": [
    "# Tensor\n",
    "Tensor is the most basic data structure in PyTorch, similar to a multidimensional array. It can represent scalars, vectors, matrices, or arrays of arbitrary dimensions.\n",
    "## Dimensions and Data Types\n",
    "### Dimensions"
   ],
   "metadata": {
    "collapsed": false
   },
   "id": "359469a45a9b99a5"
  },
  {
   "cell_type": "code",
   "outputs": [
    {
     "name": "stdout",
     "output_type": "stream",
     "text": [
      "0维张量（标量）:\n",
      "tensor(5)\n",
      "维度信息: torch.Size([])\n",
      "轴数: 0\n"
     ]
    }
   ],
   "source": [
    "import torch\n",
    "\n",
    "# 创建0维张量（标量）\n",
    "scalar = torch.tensor(5)\n",
    "print(\"0维张量（标量）:\")\n",
    "print(scalar)\n",
    "print(\"维度信息:\", scalar.size())\n",
    "print(\"轴数:\", scalar.dim())"
   ],
   "metadata": {
    "collapsed": false,
    "ExecuteTime": {
     "end_time": "2024-02-18T14:12:08.345459500Z",
     "start_time": "2024-02-18T14:12:02.681892700Z"
    }
   },
   "id": "3e1c3e64e566ba2e",
   "execution_count": 1
  },
  {
   "cell_type": "code",
   "outputs": [
    {
     "name": "stdout",
     "output_type": "stream",
     "text": [
      "1维张量（向量）:\n",
      "tensor([1, 2, 3, 4, 5])\n",
      "维度信息: torch.Size([5])\n",
      "轴数: 1\n"
     ]
    }
   ],
   "source": [
    "# 创建1维张量（向量）\n",
    "vector = torch.tensor([1, 2, 3, 4, 5])\n",
    "print(\"1维张量（向量）:\")\n",
    "print(vector)\n",
    "print(\"维度信息:\", vector.size())\n",
    "print(\"轴数:\", vector.dim())"
   ],
   "metadata": {
    "collapsed": false,
    "ExecuteTime": {
     "end_time": "2024-02-18T14:12:08.355938800Z",
     "start_time": "2024-02-18T14:12:08.347467300Z"
    }
   },
   "id": "fbc3209b76389685",
   "execution_count": 2
  },
  {
   "cell_type": "code",
   "outputs": [
    {
     "name": "stdout",
     "output_type": "stream",
     "text": [
      "2维张量（矩阵）:\n",
      "tensor([[1, 2, 3],\n",
      "        [4, 5, 6]])\n",
      "维度信息: torch.Size([2, 3])\n",
      "轴数: 2\n"
     ]
    }
   ],
   "source": [
    "# 创建2维张量（矩阵）\n",
    "matrix = torch.tensor([[1, 2, 3], [4, 5, 6]])\n",
    "print(\"2维张量（矩阵）:\")\n",
    "print(matrix)\n",
    "print(\"维度信息:\", matrix.size())\n",
    "print(\"轴数:\", matrix.dim())"
   ],
   "metadata": {
    "collapsed": false,
    "ExecuteTime": {
     "end_time": "2024-02-18T14:12:08.366188600Z",
     "start_time": "2024-02-18T14:12:08.354938400Z"
    }
   },
   "id": "508b7678e003f23f",
   "execution_count": 3
  },
  {
   "cell_type": "code",
   "outputs": [
    {
     "name": "stdout",
     "output_type": "stream",
     "text": [
      "维张量:\n",
      "tensor([[[ 1,  2,  3],\n",
      "         [ 4,  5,  6]],\n",
      "\n",
      "        [[ 7,  8,  9],\n",
      "         [10, 11, 12]]])\n",
      "维度信息: torch.Size([2, 2, 3])\n",
      "轴数: 3\n"
     ]
    }
   ],
   "source": [
    "# 创建3维张量\n",
    "tensor_3d = torch.tensor([[[1, 2, 3], [4, 5, 6]], [[7, 8, 9], [10, 11, 12]]])\n",
    "print(\"维张量:\")\n",
    "print(tensor_3d)\n",
    "print(\"维度信息:\", tensor_3d.size())\n",
    "print(\"轴数:\", tensor_3d.dim())"
   ],
   "metadata": {
    "collapsed": false,
    "ExecuteTime": {
     "end_time": "2024-02-18T14:12:08.432850800Z",
     "start_time": "2024-02-18T14:12:08.362852200Z"
    }
   },
   "id": "975e45cad5b4accc",
   "execution_count": 4
  },
  {
   "cell_type": "markdown",
   "source": [
    "### Data Types\n",
    "在创建张量时，可以通过指定dtype参数来设置所需的数据类型。例如，要创建一个64位浮点数张量，可以使用以下代码："
   ],
   "metadata": {
    "collapsed": false
   },
   "id": "173e40dd15294374"
  },
  {
   "cell_type": "code",
   "outputs": [
    {
     "name": "stdout",
     "output_type": "stream",
     "text": [
      "tensor([1., 2., 3.], dtype=torch.float64)\n",
      "torch.float64\n"
     ]
    }
   ],
   "source": [
    "import torch\n",
    "\n",
    "tensor = torch.tensor([1, 2, 3], dtype=torch.float64)\n",
    "print(tensor)\n",
    "print(tensor.dtype)"
   ],
   "metadata": {
    "collapsed": false,
    "ExecuteTime": {
     "end_time": "2024-02-18T14:12:08.432850800Z",
     "start_time": "2024-02-18T14:12:08.369191800Z"
    }
   },
   "id": "29a967e2684a464f",
   "execution_count": 5
  },
  {
   "cell_type": "markdown",
   "source": [
    "## GPU Acceleration\n",
    "Check out the available GPUs"
   ],
   "metadata": {
    "collapsed": false
   },
   "id": "8afdde0ee2ac19b7"
  },
  {
   "cell_type": "code",
   "outputs": [
    {
     "name": "stdout",
     "output_type": "stream",
     "text": [
      "GPU可用，可用的GPU设备数量：1\n",
      "GPU设备 0: NVIDIA GeForce RTX 3060 Laptop GPU\n"
     ]
    }
   ],
   "source": [
    "import torch\n",
    "\n",
    "# 检测系统中是否有可用的GPU\n",
    "if torch.cuda.is_available():\n",
    "    # 输出可用的GPU设备数量\n",
    "    print(f\"GPU可用，可用的GPU设备数量：{torch.cuda.device_count()}\")\n",
    "    # 输出每个可用GPU设备的名称\n",
    "    for i in range(torch.cuda.device_count()):\n",
    "        print(f\"GPU设备 {i}: {torch.cuda.get_device_name(i)}\")\n",
    "else:\n",
    "    print(\"GPU不可用\")"
   ],
   "metadata": {
    "collapsed": false,
    "ExecuteTime": {
     "end_time": "2024-02-18T14:12:11.543809500Z",
     "start_time": "2024-02-18T14:12:08.380884400Z"
    }
   },
   "id": "6f2c46a8146051cb",
   "execution_count": 6
  },
  {
   "cell_type": "markdown",
   "source": [
    "Move Tensor to GPU"
   ],
   "metadata": {
    "collapsed": false
   },
   "id": "ecd4e36d7bc7b3a2"
  },
  {
   "cell_type": "code",
   "outputs": [
    {
     "name": "stdout",
     "output_type": "stream",
     "text": [
      "tensor([1, 2, 3], device='cuda:0')\n",
      "tensor([2, 4, 6], device='cuda:0')\n",
      "tensor([2, 4, 6])\n"
     ]
    }
   ],
   "source": [
    "import torch\n",
    " \n",
    "# 检查GPU是否可用\n",
    "if torch.cuda.is_available():\n",
    "    # 创建一个张量并将其移动到GPU上\n",
    "    tensor = torch.tensor([1, 2, 3])\n",
    "    tensor = tensor.to('cuda')\n",
    "    print(tensor)\n",
    " \n",
    "    # 进行张量计算\n",
    "    result = tensor * 2\n",
    "    print(result)\n",
    " \n",
    "    # 将张量移回CPU\n",
    "    result = result.to('cpu')\n",
    "    print(result)\n",
    "else:\n",
    "    print(\"GPU不可用\")"
   ],
   "metadata": {
    "collapsed": false,
    "ExecuteTime": {
     "end_time": "2024-02-18T14:12:12.930203400Z",
     "start_time": "2024-02-18T14:12:11.541810Z"
    }
   },
   "id": "d1c451fcb9bfe7ef",
   "execution_count": 7
  },
  {
   "cell_type": "markdown",
   "source": [
    "The classic \"device\" statement"
   ],
   "metadata": {
    "collapsed": false
   },
   "id": "8d8a755758ce7f60"
  },
  {
   "cell_type": "code",
   "outputs": [
    {
     "name": "stdout",
     "output_type": "stream",
     "text": [
      "tensor([2, 4, 6], device='cuda:0')\n"
     ]
    }
   ],
   "source": [
    "import torch\n",
    "\n",
    "\n",
    "device = torch.device(\"cuda\" if torch.cuda.is_available() else \"cpu\")\n",
    "\n",
    "x = torch.tensor([1, 2, 3]).to(device)\n",
    "result = x * 2\n",
    "print(result)\n"
   ],
   "metadata": {
    "collapsed": false,
    "ExecuteTime": {
     "end_time": "2024-02-18T14:12:12.932133900Z",
     "start_time": "2024-02-18T14:12:12.925507600Z"
    }
   },
   "id": "78b43dfcbf7fce04",
   "execution_count": 8
  }
 ],
 "metadata": {
  "kernelspec": {
   "display_name": "Python 3",
   "language": "python",
   "name": "python3"
  },
  "language_info": {
   "codemirror_mode": {
    "name": "ipython",
    "version": 2
   },
   "file_extension": ".py",
   "mimetype": "text/x-python",
   "name": "python",
   "nbconvert_exporter": "python",
   "pygments_lexer": "ipython2",
   "version": "2.7.6"
  }
 },
 "nbformat": 4,
 "nbformat_minor": 5
}
